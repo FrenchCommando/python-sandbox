{
 "cells": [
  {
   "cell_type": "markdown",
   "metadata": {},
   "source": [
    "# Payoff\n",
    "- pays 1 if S >= B any time in the future"
   ]
  },
  {
   "cell_type": "markdown",
   "metadata": {},
   "source": [
    "# Answer\n",
    "It's 1 if the spot is above the barrier, otherwise linear function of the spot.\n",
    "Explanation: to hedge it, you just buy 1/B shares of stock S. -> If it reaches the barrier, you hedge works.\n",
    "\n",
    "You don't need to pay 1 for it, even if you will almost surely hit the barrier. (is that true?)\n",
    "\n",
    "## PDE solution\n",
    "Time derivative is zero, BS PDE says it's an affine function."
   ]
  }
 ],
 "metadata": {
  "kernelspec": {
   "display_name": "Python 3",
   "language": "python",
   "name": "python3"
  },
  "language_info": {
   "codemirror_mode": {
    "name": "ipython",
    "version": 3
   },
   "file_extension": ".py",
   "mimetype": "text/x-python",
   "name": "python",
   "nbconvert_exporter": "python",
   "pygments_lexer": "ipython3",
   "version": "3.7.3"
  }
 },
 "nbformat": 4,
 "nbformat_minor": 2
}
