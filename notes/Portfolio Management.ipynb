{
 "cells": [
  {
   "cell_type": "markdown",
   "metadata": {},
   "source": [
    "2 assets,\n",
    "\n",
    "one with higher returns and higher risks\n",
    "\n",
    "the other with lower returns and lower risks"
   ]
  },
  {
   "cell_type": "markdown",
   "metadata": {},
   "source": [
    "Asset allocation if I want to minimize the risk:\n",
    "- zero correlation: some combination of the two\n",
    "- positive correlation: all in the lower risk"
   ]
  },
  {
   "cell_type": "markdown",
   "metadata": {},
   "source": [
    "$$\\sigma_S, \\sigma_B, \\rho$$"
   ]
  },
  {
   "cell_type": "markdown",
   "metadata": {},
   "source": [
    "$$P=\\alpha S + (1- \\alpha) B$$"
   ]
  },
  {
   "cell_type": "markdown",
   "metadata": {},
   "source": [
    "\\begin{align}\n",
    "Variance(P) &= E[(P-\\bar{P})^2]\\\\\n",
    "&= \\alpha^2 \\sigma_S^2 + (1-\\alpha)^2 \\sigma_B^2 + 2\\rho \\alpha (1-\\alpha) \\sigma_S \\sigma_B\n",
    "\\end{align}"
   ]
  },
  {
   "cell_type": "markdown",
   "metadata": {},
   "source": [
    "FOC: \n",
    "\\begin{align}\n",
    "0 &= \\alpha \\sigma_S^2 - (1-\\alpha) \\sigma_B^2 + \\rho (1-2\\alpha) \\sigma_S \\sigma_B \\\\\n",
    "\\alpha (\\sigma_S^2 + \\sigma_B^2 -2 \\rho \\sigma_S \\sigma_B) &= \\sigma_B^2 - \\rho \\sigma_S \\sigma_B \\\\\n",
    "\\alpha &= \\frac{\\sigma_B^2 - \\rho \\sigma_S \\sigma_B}{ (\\sigma_S^2 + \\sigma_B^2 -2 \\rho \\sigma_S \\sigma_B)}\n",
    "\\end{align}"
   ]
  }
 ],
 "metadata": {
  "kernelspec": {
   "display_name": "Python 3",
   "language": "python",
   "name": "python3"
  },
  "language_info": {
   "codemirror_mode": {
    "name": "ipython",
    "version": 3
   },
   "file_extension": ".py",
   "mimetype": "text/x-python",
   "name": "python",
   "nbconvert_exporter": "python",
   "pygments_lexer": "ipython3",
   "version": "3.7.3"
  }
 },
 "nbformat": 4,
 "nbformat_minor": 2
}
