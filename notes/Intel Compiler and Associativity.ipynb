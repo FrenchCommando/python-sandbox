{
 "cells": [
  {
   "cell_type": "markdown",
   "metadata": {},
   "source": [
    "Why does my code lead to different result on different computers"
   ]
  },
  {
   "cell_type": "markdown",
   "metadata": {},
   "source": [
    "# Example\n",
    "When computing the sum of 10 number, the compiler may have a choice on how to group the numbers\n",
    "- In one case, you may add them one after the other.\n",
    "- In another case, you may add 4 of them first, then the 4 next, and the last 2; and combine the solution in the end.\n",
    "In regular arithmetic / analysis, you expect to obtain the same value in any case.\n",
    "However in programming, associativity of the sum operation doe not necessarily hold."
   ]
  },
  {
   "cell_type": "code",
   "execution_count": 6,
   "metadata": {},
   "outputs": [
    {
     "name": "stdout",
     "output_type": "stream",
     "text": [
      "1.0\n"
     ]
    }
   ],
   "source": [
    "print(1 + 1e-16 + 1e-16 + 1e-16 + 1e-16 + 1e-16 + 1e-16 + 1e-16 + 1e-16 + 1e-16 + 1e-16 + 1e-16)"
   ]
  },
  {
   "cell_type": "code",
   "execution_count": 7,
   "metadata": {},
   "outputs": [
    {
     "name": "stdout",
     "output_type": "stream",
     "text": [
      "1.000000000000001\n"
     ]
    }
   ],
   "source": [
    "print(1 + (1e-16 + 1e-16 + 1e-16 + 1e-16 + 1e-16 + 1e-16 + 1e-16 + 1e-16 + 1e-16 + 1e-16 + 1e-16))"
   ]
  }
 ],
 "metadata": {
  "kernelspec": {
   "display_name": "Python 3",
   "language": "python",
   "name": "python3"
  },
  "language_info": {
   "codemirror_mode": {
    "name": "ipython",
    "version": 3
   },
   "file_extension": ".py",
   "mimetype": "text/x-python",
   "name": "python",
   "nbconvert_exporter": "python",
   "pygments_lexer": "ipython3",
   "version": "3.7.3"
  }
 },
 "nbformat": 4,
 "nbformat_minor": 2
}
